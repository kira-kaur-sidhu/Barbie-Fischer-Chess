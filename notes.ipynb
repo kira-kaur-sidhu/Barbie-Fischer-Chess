{
 "cells": [
  {
   "attachments": {},
   "cell_type": "markdown",
   "metadata": {},
   "source": [
    "Kira and Kim's Chess Engine\n",
    "\n",
    "- Main idea: Create a chess engine where user chooses and opening to play against and then the computer plays that opening before playing the game by evaluation\n",
    "  - List of options for computer player opening's to play against\n",
    "  - Timer implemented on computer player move (~30 secs)\n",
    "  - Store current game for user to re-access\n",
    "  - EXTRA: Create a puzzle-like game where user has to follow an opening line to train for openings\n",
    "    - Extra-Extra: Implementing other puzzles for endgame\n",
    "- Backend: Python, python-chess: chess library, chess.svg: rendering images library, SQL database to store a game in progress\n",
    "- Frontend: \n",
    "  - Idea: IOS App, find way to connect back-end with IOS app front-end\n",
    "  - Idea: Create website front-end and host online\n",
    "- Test Suite:\n",
    "  - Research how to test engine ***"
   ]
  },
  {
   "attachments": {},
   "cell_type": "markdown",
   "metadata": {},
   "source": [
    "Step 1: Board Representation\n",
    "    - Write a chess engine that has a complete, bug free board representation with every rule of chess\n",
    "      - Castling, repetition draws\n",
    "- USE LIBRARIES INSTEAD (python-chess, chess.svg)"
   ]
  },
  {
   "attachments": {},
   "cell_type": "markdown",
   "metadata": {},
   "source": [
    "Step 2: Board Evaluation (Engine)\n",
    "    1. Search\n",
    "        - Searching a two-player zero-sum\n",
    "          - Traversing trees\n",
    "          - Min-maxing trees\n",
    "        - Search algorithms\n",
    "          - Depth-first search\n",
    "          - EXTRA: Alpha-beta enhancement\n",
    "        - Time Management:\n",
    "          - Implement a timer on engine\n",
    "    2. Evaluation (HEAVY RESEARCH PHASE)\n",
    "        - Score a move in MiniMax or NegaMax framework\n",
    "  \n",
    "TESTING:"
   ]
  },
  {
   "attachments": {},
   "cell_type": "markdown",
   "metadata": {},
   "source": [
    "Step 3: Openings\n",
    "    - Have a database of opening lines\n",
    "      - Account for variations in human player moves, computer chooses best fit opening line\n",
    "    - EXTRA: Endgame pre-calculated tables\n",
    "\n",
    "\n",
    "TESTING:"
   ]
  },
  {
   "attachments": {},
   "cell_type": "markdown",
   "metadata": {},
   "source": [
    "Puzzle Game:\n",
    "    - Hard code opening line, player just needs to follow it\n",
    "      - True or False evaluation"
   ]
  },
  {
   "attachments": {},
   "cell_type": "markdown",
   "metadata": {},
   "source": [
    "LINKS:\n",
    "    - Chess Programming Wiki: https://www.chessprogramming.org/Main_Page\n"
   ]
  }
 ],
 "metadata": {
  "language_info": {
   "name": "python"
  },
  "orig_nbformat": 4
 },
 "nbformat": 4,
 "nbformat_minor": 2
}
